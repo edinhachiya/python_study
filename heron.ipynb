{
  "nbformat": 4,
  "nbformat_minor": 0,
  "metadata": {
    "colab": {
      "name": "heron",
      "provenance": [],
      "collapsed_sections": [],
      "include_colab_link": true
    },
    "kernelspec": {
      "name": "python3",
      "display_name": "Python 3"
    }
  },
  "cells": [
    {
      "cell_type": "markdown",
      "metadata": {
        "id": "view-in-github",
        "colab_type": "text"
      },
      "source": [
        "<a href=\"https://colab.research.google.com/github/edinhachiya/python_study/blob/main/heron.ipynb\" target=\"_parent\"><img src=\"https://colab.research.google.com/assets/colab-badge.svg\" alt=\"Open In Colab\"/></a>"
      ]
    },
    {
      "cell_type": "code",
      "metadata": {
        "id": "8188IUHHQlUw",
        "colab": {
          "base_uri": "https://localhost:8080/"
        },
        "outputId": "b17c9ffa-4823-46cf-8d9a-f6a78f4c2eef"
      },
      "source": [
        "ed_a = int(input(\"最初の辺は何㎝ですか？:\"))\n",
        "ed_b = int(input(\"次の辺は何㎝ですか？:\"))\n",
        "ed_c = int(input(\"最後の辺は何㎝ですか？:\"))\n",
        "ed_s = (ed_a + ed_b + ed_c)/2\n",
        "total = ed_s * (ed_s - ed_a) * (ed_s - ed_b) * (ed_s - ed_c)\n",
        "import math\n",
        "print(math.sqrt(total))\n",
        "\n"
      ],
      "execution_count": 1,
      "outputs": [
        {
          "output_type": "stream",
          "text": [
            "最初の辺は何㎝ですか？:4\n",
            "次の辺は何㎝ですか？:4\n",
            "最後の辺は何㎝ですか？:4\n",
            "6.928203230275509\n"
          ],
          "name": "stdout"
        }
      ]
    }
  ]
}