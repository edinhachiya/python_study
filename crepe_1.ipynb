{
  "nbformat": 4,
  "nbformat_minor": 0,
  "metadata": {
    "colab": {
      "name": "crepe_1",
      "provenance": [],
      "collapsed_sections": [],
      "include_colab_link": true
    },
    "kernelspec": {
      "name": "python3",
      "display_name": "Python 3"
    }
  },
  "cells": [
    {
      "cell_type": "markdown",
      "metadata": {
        "id": "view-in-github",
        "colab_type": "text"
      },
      "source": [
        "<a href=\"https://colab.research.google.com/github/edinhachiya/python_study/blob/main/crepe_1.ipynb\" target=\"_parent\"><img src=\"https://colab.research.google.com/assets/colab-badge.svg\" alt=\"Open In Colab\"/></a>"
      ]
    },
    {
      "cell_type": "code",
      "metadata": {
        "id": "8188IUHHQlUw",
        "colab": {
          "base_uri": "https://localhost:8080/"
        },
        "outputId": "e7863fce-4787-4471-e52e-0221c18ed718"
      },
      "source": [
        "#クレープ屋\n",
        "tax_a = 0.08\n",
        "tax_b = 0.1\n",
        "crepe_price = 400\n",
        "take = \"はい\"\n",
        "\n",
        "input_a = input(\"お持ち帰りですか？:\")\n",
        "\n",
        "if take == input_a:\n",
        "  input_b = input(\"いくつ買いますか？:\")\n",
        "  count_a = int(input_b)\n",
        "  total_price = count_a * ((crepe_price * tax_a) + crepe_price)\n",
        "\n",
        "else:\n",
        "  input_c = input(\"いくつ買いますか？:\")\n",
        "  count_b = int(input_c)\n",
        "  total_price = count_b * ((crepe_price * tax_b) + crepe_price)\n",
        "\n",
        "print(\"料金は、\" + str(total_price) + \"円です。\")"
      ],
      "execution_count": 7,
      "outputs": [
        {
          "output_type": "stream",
          "text": [
            "お持ち帰りですか？:ii\n",
            "いくつ買いますか？:100\n",
            "料金は、44000.0円です。\n"
          ],
          "name": "stdout"
        }
      ]
    }
  ]
}