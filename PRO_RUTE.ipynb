{
  "nbformat": 4,
  "nbformat_minor": 0,
  "metadata": {
    "colab": {
      "name": "PRO_RUTE",
      "provenance": [],
      "collapsed_sections": [],
      "include_colab_link": true
    },
    "kernelspec": {
      "name": "python3",
      "display_name": "Python 3"
    }
  },
  "cells": [
    {
      "cell_type": "markdown",
      "metadata": {
        "id": "view-in-github",
        "colab_type": "text"
      },
      "source": [
        "<a href=\"https://colab.research.google.com/github/edinhachiya/python_study/blob/main/PRO_RUTE.ipynb\" target=\"_parent\"><img src=\"https://colab.research.google.com/assets/colab-badge.svg\" alt=\"Open In Colab\"/></a>"
      ]
    },
    {
      "cell_type": "code",
      "metadata": {
        "id": "8188IUHHQlUw",
        "colab": {
          "base_uri": "https://localhost:8080/"
        },
        "outputId": "ce50b8c8-d18b-47c5-bb36-5818a88a5ab6"
      },
      "source": [
        "ed_b = 2\n",
        "ed_c = 1\n",
        "ed_d = 3\n",
        "import math\n",
        "ed_a = math.sqrt(ed_d)\n",
        "\n",
        "ed_s = (ed_a + ed_b + ed_c)/2\n",
        "total = ed_s * (ed_s - ed_a) * (ed_s - ed_b) * (ed_s - ed_c)\n",
        "\n",
        "print(math.sqrt(total))\n",
        "\n"
      ],
      "execution_count": 4,
      "outputs": [
        {
          "output_type": "stream",
          "text": [
            "0.866025403784438\n"
          ],
          "name": "stdout"
        }
      ]
    }
  ]
}