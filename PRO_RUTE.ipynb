{
  "nbformat": 4,
  "nbformat_minor": 0,
  "metadata": {
    "colab": {
      "name": "PRO_RUTE",
      "provenance": [],
      "collapsed_sections": [],
      "include_colab_link": true
    },
    "kernelspec": {
      "name": "python3",
      "display_name": "Python 3"
    }
  },
  "cells": [
    {
      "cell_type": "markdown",
      "metadata": {
        "id": "view-in-github",
        "colab_type": "text"
      },
      "source": [
        "<a href=\"https://colab.research.google.com/github/edinhachiya/python_study/blob/main/PRO_RUTE.ipynb\" target=\"_parent\"><img src=\"https://colab.research.google.com/assets/colab-badge.svg\" alt=\"Open In Colab\"/></a>"
      ]
    },
    {
      "cell_type": "code",
      "metadata": {
        "id": "8188IUHHQlUw",
        "colab": {
          "base_uri": "https://localhost:8080/"
        },
        "outputId": "b95f4b3f-a73b-4d70-fbc7-405842c3bc4b"
      },
      "source": [
        "ed_a = 1.732050807568877293527446341505872366942805253810380628055\n",
        "ed_b = int(input(\"次の辺は何㎝ですか？:\"))\n",
        "ed_c = int(input(\"最後の辺は何㎝ですか？:\"))\n",
        "ed_s = (ed_a + ed_b + ed_c)/2\n",
        "total = ed_s * (ed_s - ed_a) * (ed_s - ed_b) * (ed_s - ed_c)\n",
        "import math\n",
        "print(math.sqrt(total))\n",
        "\n"
      ],
      "execution_count": 1,
      "outputs": [
        {
          "output_type": "stream",
          "text": [
            "次の辺は何㎝ですか？:2\n",
            "最後の辺は何㎝ですか？:1\n",
            "0.866025403784438\n"
          ],
          "name": "stdout"
        }
      ]
    }
  ]
}