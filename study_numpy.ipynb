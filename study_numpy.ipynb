{
  "nbformat": 4,
  "nbformat_minor": 0,
  "metadata": {
    "colab": {
      "name": "study_numpy",
      "provenance": [],
      "collapsed_sections": [],
      "include_colab_link": true
    },
    "kernelspec": {
      "name": "python3",
      "display_name": "Python 3"
    }
  },
  "cells": [
    {
      "cell_type": "markdown",
      "metadata": {
        "id": "view-in-github",
        "colab_type": "text"
      },
      "source": [
        "<a href=\"https://colab.research.google.com/github/edinhachiya/python_study/blob/main/study_numpy.ipynb\" target=\"_parent\"><img src=\"https://colab.research.google.com/assets/colab-badge.svg\" alt=\"Open In Colab\"/></a>"
      ]
    },
    {
      "cell_type": "code",
      "metadata": {
        "id": "8188IUHHQlUw",
        "colab": {
          "base_uri": "https://localhost:8080/"
        },
        "outputId": "fee7e892-aff1-4174-9242-01708311451a"
      },
      "source": [
        "import numpy as np\n",
        "\n",
        "nums = np.arange(1,101)\n",
        "power = np.power(2,nums.astype(np.float128))\n",
        "sum = np.sum(power)\n",
        "print(f\"sum:{sum}\")"
      ],
      "execution_count": 3,
      "outputs": [
        {
          "output_type": "stream",
          "text": [
            "sum:2.535301200456459e+30\n"
          ],
          "name": "stdout"
        }
      ]
    }
  ]
}