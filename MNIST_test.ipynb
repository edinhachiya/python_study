{
  "nbformat": 4,
  "nbformat_minor": 0,
  "metadata": {
    "colab": {
      "name": "MNIST_test.ipynb",
      "provenance": [],
      "collapsed_sections": [],
      "include_colab_link": true
    },
    "kernelspec": {
      "name": "python3",
      "display_name": "Python 3"
    }
  },
  "cells": [
    {
      "cell_type": "markdown",
      "metadata": {
        "id": "view-in-github",
        "colab_type": "text"
      },
      "source": [
        "<a href=\"https://colab.research.google.com/github/edinhachiya/python_study/blob/main/MNIST_test.ipynb\" target=\"_parent\"><img src=\"https://colab.research.google.com/assets/colab-badge.svg\" alt=\"Open In Colab\"/></a>"
      ]
    },
    {
      "cell_type": "code",
      "metadata": {
        "id": "ZWQsjmV0Ig0G",
        "colab": {
          "base_uri": "https://localhost:8080/",
          "height": 95
        },
        "outputId": "d9e46588-53d0-4344-8210-91abc31b6197"
      },
      "source": [
        "from sklearn import datasets\n",
        "import matplotlib.pyplot as plt\n",
        "import numpy as np\n",
        "import datetime\n",
        "\n",
        "#-------------\n",
        "# load MNIST data\n",
        "MNIST = datasets.load_digits()\n",
        "X=MNIST.data\n",
        "y=MNIST.target\n",
        "#-------------\n",
        "\n",
        "# select numbers\n",
        "#np.random.seed(615)\n",
        "#nums = np.random.permutation(4)\n",
        "dt_now = datetime.datetime.now()\n",
        "nums = dt_now.strftime('%H%M%S')\n",
        "\n",
        "#-------------\n",
        "# plot\n",
        "fig = plt.figure()\n",
        "for ind in range(len(nums)):\n",
        "  ax = fig.add_subplot(1,len(nums),ind+1)\n",
        "  ax.imshow(np.reshape(X[y==int(nums[ind])][0],[8,8]),cmap=\"gray\")\n",
        "plt.tight_layout()\n",
        "plt.show()\n",
        "#-------------\n"
      ],
      "execution_count": 1,
      "outputs": [
        {
          "output_type": "display_data",
          "data": {
            "image/png": "[encoded data removed]",
            "text/plain": [
              "<Figure size 432x288 with 6 Axes>"
            ]
          },
          "metadata": {
            "tags": [],
            "needs_background": "light"
          }
        }
      ]
    },
    {
      "cell_type": "code",
      "metadata": {
        "id": "IS_HFOkUjWRW"
      },
      "source": [
        ""
      ],
      "execution_count": null,
      "outputs": []
    },
    {
      "cell_type": "code",
      "metadata": {
        "id": "8188IUHHQlUw"
      },
      "source": [
        ""
      ],
      "execution_count": null,
      "outputs": []
    }
  ]
}