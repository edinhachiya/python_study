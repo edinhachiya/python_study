{
  "nbformat": 4,
  "nbformat_minor": 0,
  "metadata": {
    "colab": {
      "name": "study(simple)",
      "provenance": [],
      "collapsed_sections": [],
      "include_colab_link": true
    },
    "kernelspec": {
      "display_name": "Python 3",
      "name": "python3"
    }
  },
  "cells": [
    {
      "cell_type": "markdown",
      "metadata": {
        "id": "view-in-github",
        "colab_type": "text"
      },
      "source": [
        "<a href=\"https://colab.research.google.com/github/edinhachiya/python_study/blob/main/study(simple).ipynb\" target=\"_parent\"><img src=\"https://colab.research.google.com/assets/colab-badge.svg\" alt=\"Open In Colab\"/></a>"
      ]
    },
    {
      "cell_type": "code",
      "metadata": {
        "colab": {
          "base_uri": "https://localhost:8080/"
        },
        "id": "8188IUHHQlUw",
        "outputId": "f8e11369-94e8-439b-9c40-6ff85146d6e0"
      },
      "source": [
        "s = 0\n",
        "for x in  range(1,51):\n",
        "  s += x\n",
        "print(s)"
      ],
      "execution_count": 3,
      "outputs": [
        {
          "output_type": "stream",
          "name": "stdout",
          "text": [
            "1275\n"
          ]
        }
      ]
    },
    {
      "cell_type": "code",
      "metadata": {
        "colab": {
          "base_uri": "https://localhost:8080/"
        },
        "id": "xE7TeRlJ8SxE",
        "outputId": "93b8fa55-ea2a-4eb5-afb7-e5b67c3a22c2"
      },
      "source": [
        "s = 50 * 51 / 2\n",
        "print(s)"
      ],
      "execution_count": 6,
      "outputs": [
        {
          "output_type": "stream",
          "name": "stdout",
          "text": [
            "1275.0\n"
          ]
        }
      ]
    },
    {
      "cell_type": "code",
      "metadata": {
        "colab": {
          "base_uri": "https://localhost:8080/"
        },
        "id": "fVc2QPt78tQG",
        "outputId": "1bb98e19-bf3d-4d9b-a45f-49c38b096299"
      },
      "source": [
        "s = sum(range(1,51))\n",
        "print(s)"
      ],
      "execution_count": 7,
      "outputs": [
        {
          "output_type": "stream",
          "name": "stdout",
          "text": [
            "1275\n"
          ]
        }
      ]
    },
    {
      "cell_type": "code",
      "metadata": {
        "colab": {
          "base_uri": "https://localhost:8080/"
        },
        "id": "WaV9Nft39q3T",
        "outputId": "22e2e10b-2ebe-403a-fb6f-ba7435751b47"
      },
      "source": [
        "import math\n",
        "\n",
        "x,y = input(),input()\n",
        "x = int(x)\n",
        "y = int(y)\n",
        "if x == 0:\n",
        "  \n",
        "s = math.gcd(x,y)\n",
        "print('最大公約数は',s,'です')"
      ],
      "execution_count": 22,
      "outputs": [
        {
          "output_type": "stream",
          "name": "stdout",
          "text": [
            "4\n",
            "6\n",
            "最大公約数は 2 です\n"
          ]
        }
      ]
    },
    {
      "cell_type": "code",
      "metadata": {
        "id": "w3Tz6G_S-IiI"
      },
      "source": [
        ""
      ],
      "execution_count": 20,
      "outputs": []
    }
  ]
}