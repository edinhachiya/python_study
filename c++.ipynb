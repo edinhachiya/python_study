{
  "nbformat": 4,
  "nbformat_minor": 0,
  "metadata": {
    "colab": {
      "name": "c++",
      "provenance": [],
      "collapsed_sections": [],
      "include_colab_link": true
    },
    "kernelspec": {
      "name": "python3",
      "display_name": "Python 3"
    }
  },
  "cells": [
    {
      "cell_type": "markdown",
      "metadata": {
        "id": "view-in-github",
        "colab_type": "text"
      },
      "source": [
        "<a href=\"https://colab.research.google.com/github/edinhachiya/python_study/blob/main/c%2B%2B.ipynb\" target=\"_parent\"><img src=\"https://colab.research.google.com/assets/colab-badge.svg\" alt=\"Open In Colab\"/></a>"
      ]
    },
    {
      "cell_type": "code",
      "metadata": {
        "id": "ZWQsjmV0Ig0G"
      },
      "source": [
        "from sklearn import datasets\n",
        "import matplotlib.pyplot as plt\n",
        "import numpy as np\n",
        "import datetime\n",
        "\n",
        "#-------------\n",
        "# load MNIST data\n",
        "MNIST = datasets.load_digits()\n",
        "X=MNIST.data\n",
        "y=MNIST.target\n",
        "#-------------\n",
        "\n",
        "# select numbers\n",
        "#np.random.seed(615)\n",
        "#nums = np.random.permutation(4)\n",
        "dt_now = datetime.datetime.now()\n",
        "nums = dt_now.strftime('%H%M%S')\n",
        "\n",
        "#-------------\n",
        "# plot\n",
        "fig = plt.figure()\n",
        "for ind in range(len(nums)):\n",
        "  ax = fig.add_subplot(1,len(nums),ind+1)\n",
        "  ax.imshow(np.reshape(X[y==int(nums[ind])][0],[8,8]),cmap=\"gray\")\n",
        "plt.tight_layout()\n",
        "plt.show()\n",
        "#-------------\n"
      ],
      "execution_count": null,
      "outputs": []
    },
    {
      "cell_type": "code",
      "metadata": {
        "id": "8188IUHHQlUw"
      },
      "source": [
        ""
      ],
      "execution_count": null,
      "outputs": []
    }
  ]
}